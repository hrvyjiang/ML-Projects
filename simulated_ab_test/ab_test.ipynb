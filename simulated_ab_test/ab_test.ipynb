{
 "cells": [
  {
   "cell_type": "code",
   "execution_count": 2,
   "metadata": {},
   "outputs": [],
   "source": [
    "import pandas as pd\n",
    "import numpy as np\n",
    "\n",
    "def weight_func(sequence):\n",
    "    prob = []\n",
    "    cum_prob = []\n",
    "    total_sum = sum(sequence)\n",
    "    uniform = np.random.uniform(0,1)\n",
    "\n",
    "    for i in range(len(sequence)):\n",
    "        prob.append(sequence[i]/total_sum)\n",
    "        cum_prob.append(sum(prob))\n",
    "        if uniform < cum_prob[i]:\n",
    "            break\n",
    "\n",
    "        return sequence[i]"
   ]
  },
  {
   "cell_type": "code",
   "execution_count": 3,
   "metadata": {},
   "outputs": [
    {
     "data": {
      "text/plain": [
       "0.1498"
      ]
     },
     "execution_count": 3,
     "metadata": {},
     "output_type": "execute_result"
    }
   ],
   "source": [
    "np.random.seed(123)\n",
    "\n",
    "def some_funct(number_trials, probability_A):\n",
    "    binomial_dist = np.random.binomial(n=number_trials, p=probability_A, size=10000)\n",
    "    count = 0\n",
    "    for value in binomial_dist:\n",
    "        if value > 6050:\n",
    "            count += 1\n",
    "\n",
    "    return count/number_trials\n",
    "some_funct(number_trials=10000, probability_A=0.6)"
   ]
  },
  {
   "attachments": {},
   "cell_type": "markdown",
   "metadata": {},
   "source": [
    "## Power Analysis"
   ]
  },
  {
   "cell_type": "code",
   "execution_count": 4,
   "metadata": {},
   "outputs": [
    {
     "name": "stdout",
     "output_type": "stream",
     "text": [
      "Sample Size: 1571.000\n"
     ]
    },
    {
     "name": "stderr",
     "output_type": "stream",
     "text": [
      "/Users/harveyjiang/anaconda3/lib/python3.11/site-packages/scipy/stats/_continuous_distns.py:6832: RuntimeWarning: invalid value encountered in _nct_sf\n",
      "  return np.clip(_boost._nct_sf(x, df, nc), 0, 1)\n",
      "/Users/harveyjiang/anaconda3/lib/python3.11/site-packages/scipy/stats/_continuous_distns.py:6826: RuntimeWarning: invalid value encountered in _nct_cdf\n",
      "  return np.clip(_boost._nct_cdf(x, df, nc), 0, 1)\n",
      "/Users/harveyjiang/anaconda3/lib/python3.11/site-packages/scipy/stats/_continuous_distns.py:6832: RuntimeWarning: overflow encountered in _nct_sf\n",
      "  return np.clip(_boost._nct_sf(x, df, nc), 0, 1)\n",
      "/Users/harveyjiang/anaconda3/lib/python3.11/site-packages/scipy/stats/_continuous_distns.py:6826: RuntimeWarning: overflow encountered in _nct_cdf\n",
      "  return np.clip(_boost._nct_cdf(x, df, nc), 0, 1)\n"
     ]
    }
   ],
   "source": [
    "from statsmodels.stats.power import TTestIndPower\n",
    "\n",
    "effect = 0.1\n",
    "alpha = 0.05\n",
    "power = 0.8\n",
    "\n",
    "analysis = TTestIndPower()\n",
    "result = analysis.solve_power(effect, power=power, nobs1=None, ratio = 1.0, alpha=alpha)\n",
    "print('Sample Size: %.3f' % round(result))"
   ]
  },
  {
   "attachments": {},
   "cell_type": "markdown",
   "metadata": {},
   "source": [
    "## Data Generation Process with simulation"
   ]
  },
  {
   "cell_type": "code",
   "execution_count": 5,
   "metadata": {},
   "outputs": [],
   "source": [
    "# userid\n",
    "\n",
    "user_id_control = list(range(1,1601))\n",
    "user_id_treatment = list(range(1601,3350))"
   ]
  },
  {
   "cell_type": "code",
   "execution_count": 6,
   "metadata": {},
   "outputs": [],
   "source": [
    "# Version\n",
    "control_status = ['control']*1600\n",
    "treatment_status = ['treatment']*1749"
   ]
  },
  {
   "cell_type": "code",
   "execution_count": 7,
   "metadata": {},
   "outputs": [],
   "source": [
    "# Variable 3: minutes of plays, which has normal distribution with central limit theroem\n",
    "# Control group\n",
    "u_1 = 30\n",
    "var_1 = 10\n",
    "np.random.seed(123)\n",
    "minutes_control = np.random.normal(loc = u_1, scale=var_1, size = 1600)"
   ]
  },
  {
   "cell_type": "code",
   "execution_count": 10,
   "metadata": {},
   "outputs": [],
   "source": [
    "# Treatment group\n",
    "# (u_2 - u_1)/var = 0.1\n",
    "u_2 = u_1 + 0.1*var_1\n",
    "var_2 = 10\n",
    "np.random.seed(123)\n",
    "minutes_treat = np.random.normal(loc=u_2, scale=var_2, size = 1749)"
   ]
  },
  {
   "cell_type": "code",
   "execution_count": 11,
   "metadata": {},
   "outputs": [],
   "source": [
    "# Variable 4 user engagement after 1 day\n",
    "# after day 1, simulate novelty effect\n",
    "\n",
    "Active_status = [True, False]\n",
    "\n",
    "# control\n",
    "day_1_control = np.random.choice(Active_status, 1600, p=[0.3, 0.7])\n",
    "\n",
    "# treatment\n",
    "day_1_treatment = np.random.choice(Active_status, 1749, p=[0.35, 0.65])\n"
   ]
  },
  {
   "cell_type": "code",
   "execution_count": 12,
   "metadata": {},
   "outputs": [],
   "source": [
    "# Variable 5, user engagement after 7 day\n",
    "# after day 7, control > treatment, novelty effect diminished and revered\n",
    "\n",
    "# control\n",
    "day_7_control = np.random.choice(Active_status, 1600, p=[0.35, 0.65])\n",
    "\n",
    "# treatment\n",
    "day_7_treatment = np.random.choice(Active_status, 1749, p=[0.25, 0.75])"
   ]
  },
  {
   "cell_type": "markdown",
   "metadata": {},
   "source": [
    "## Construct control group"
   ]
  },
  {
   "cell_type": "code",
   "execution_count": 23,
   "metadata": {},
   "outputs": [
    {
     "data": {
      "text/html": [
       "<div>\n",
       "<style scoped>\n",
       "    .dataframe tbody tr th:only-of-type {\n",
       "        vertical-align: middle;\n",
       "    }\n",
       "\n",
       "    .dataframe tbody tr th {\n",
       "        vertical-align: top;\n",
       "    }\n",
       "\n",
       "    .dataframe thead th {\n",
       "        text-align: right;\n",
       "    }\n",
       "</style>\n",
       "<table border=\"1\" class=\"dataframe\">\n",
       "  <thead>\n",
       "    <tr style=\"text-align: right;\">\n",
       "      <th></th>\n",
       "      <th>user_id</th>\n",
       "      <th>version</th>\n",
       "      <th>minutes_play</th>\n",
       "      <th>day_1_active</th>\n",
       "      <th>day_7_active</th>\n",
       "    </tr>\n",
       "  </thead>\n",
       "  <tbody>\n",
       "    <tr>\n",
       "      <th>0</th>\n",
       "      <td>1</td>\n",
       "      <td>control</td>\n",
       "      <td>19.143694</td>\n",
       "      <td>False</td>\n",
       "      <td>True</td>\n",
       "    </tr>\n",
       "    <tr>\n",
       "      <th>1</th>\n",
       "      <td>2</td>\n",
       "      <td>control</td>\n",
       "      <td>39.973454</td>\n",
       "      <td>True</td>\n",
       "      <td>False</td>\n",
       "    </tr>\n",
       "    <tr>\n",
       "      <th>2</th>\n",
       "      <td>3</td>\n",
       "      <td>control</td>\n",
       "      <td>32.829785</td>\n",
       "      <td>False</td>\n",
       "      <td>False</td>\n",
       "    </tr>\n",
       "    <tr>\n",
       "      <th>3</th>\n",
       "      <td>4</td>\n",
       "      <td>control</td>\n",
       "      <td>14.937053</td>\n",
       "      <td>False</td>\n",
       "      <td>True</td>\n",
       "    </tr>\n",
       "    <tr>\n",
       "      <th>4</th>\n",
       "      <td>5</td>\n",
       "      <td>control</td>\n",
       "      <td>24.213997</td>\n",
       "      <td>False</td>\n",
       "      <td>True</td>\n",
       "    </tr>\n",
       "    <tr>\n",
       "      <th>...</th>\n",
       "      <td>...</td>\n",
       "      <td>...</td>\n",
       "      <td>...</td>\n",
       "      <td>...</td>\n",
       "      <td>...</td>\n",
       "    </tr>\n",
       "    <tr>\n",
       "      <th>1595</th>\n",
       "      <td>1596</td>\n",
       "      <td>control</td>\n",
       "      <td>27.154466</td>\n",
       "      <td>False</td>\n",
       "      <td>True</td>\n",
       "    </tr>\n",
       "    <tr>\n",
       "      <th>1596</th>\n",
       "      <td>1597</td>\n",
       "      <td>control</td>\n",
       "      <td>46.414042</td>\n",
       "      <td>True</td>\n",
       "      <td>False</td>\n",
       "    </tr>\n",
       "    <tr>\n",
       "      <th>1597</th>\n",
       "      <td>1598</td>\n",
       "      <td>control</td>\n",
       "      <td>41.523560</td>\n",
       "      <td>True</td>\n",
       "      <td>True</td>\n",
       "    </tr>\n",
       "    <tr>\n",
       "      <th>1598</th>\n",
       "      <td>1599</td>\n",
       "      <td>control</td>\n",
       "      <td>23.981909</td>\n",
       "      <td>False</td>\n",
       "      <td>True</td>\n",
       "    </tr>\n",
       "    <tr>\n",
       "      <th>1599</th>\n",
       "      <td>1600</td>\n",
       "      <td>control</td>\n",
       "      <td>17.843379</td>\n",
       "      <td>False</td>\n",
       "      <td>False</td>\n",
       "    </tr>\n",
       "  </tbody>\n",
       "</table>\n",
       "<p>1600 rows × 5 columns</p>\n",
       "</div>"
      ],
      "text/plain": [
       "      user_id  version  minutes_play  day_1_active  day_7_active\n",
       "0           1  control     19.143694         False          True\n",
       "1           2  control     39.973454          True         False\n",
       "2           3  control     32.829785         False         False\n",
       "3           4  control     14.937053         False          True\n",
       "4           5  control     24.213997         False          True\n",
       "...       ...      ...           ...           ...           ...\n",
       "1595     1596  control     27.154466         False          True\n",
       "1596     1597  control     46.414042          True         False\n",
       "1597     1598  control     41.523560          True          True\n",
       "1598     1599  control     23.981909         False          True\n",
       "1599     1600  control     17.843379         False         False\n",
       "\n",
       "[1600 rows x 5 columns]"
      ]
     },
     "execution_count": 23,
     "metadata": {},
     "output_type": "execute_result"
    }
   ],
   "source": [
    "raw_control = {'user_id':user_id_control,\n",
    "               'version':control_status,\n",
    "               'minutes_play':minutes_control,\n",
    "               'day_1_active':day_1_control,\n",
    "               'day_7_active':day_7_control\n",
    "               }\n",
    "control_group = pd.DataFrame(data=raw_control)\n",
    "control_group"
   ]
  },
  {
   "cell_type": "code",
   "execution_count": 24,
   "metadata": {},
   "outputs": [],
   "source": [
    "## Contrust treatment group"
   ]
  },
  {
   "cell_type": "code",
   "execution_count": 25,
   "metadata": {},
   "outputs": [
    {
     "data": {
      "text/html": [
       "<div>\n",
       "<style scoped>\n",
       "    .dataframe tbody tr th:only-of-type {\n",
       "        vertical-align: middle;\n",
       "    }\n",
       "\n",
       "    .dataframe tbody tr th {\n",
       "        vertical-align: top;\n",
       "    }\n",
       "\n",
       "    .dataframe thead th {\n",
       "        text-align: right;\n",
       "    }\n",
       "</style>\n",
       "<table border=\"1\" class=\"dataframe\">\n",
       "  <thead>\n",
       "    <tr style=\"text-align: right;\">\n",
       "      <th></th>\n",
       "      <th>user_id</th>\n",
       "      <th>version</th>\n",
       "      <th>minutes_play</th>\n",
       "      <th>day_1_active</th>\n",
       "      <th>day_7_active</th>\n",
       "    </tr>\n",
       "  </thead>\n",
       "  <tbody>\n",
       "    <tr>\n",
       "      <th>0</th>\n",
       "      <td>1601</td>\n",
       "      <td>treatment</td>\n",
       "      <td>20.143694</td>\n",
       "      <td>False</td>\n",
       "      <td>False</td>\n",
       "    </tr>\n",
       "    <tr>\n",
       "      <th>1</th>\n",
       "      <td>1602</td>\n",
       "      <td>treatment</td>\n",
       "      <td>40.973454</td>\n",
       "      <td>True</td>\n",
       "      <td>False</td>\n",
       "    </tr>\n",
       "    <tr>\n",
       "      <th>2</th>\n",
       "      <td>1603</td>\n",
       "      <td>treatment</td>\n",
       "      <td>33.829785</td>\n",
       "      <td>True</td>\n",
       "      <td>True</td>\n",
       "    </tr>\n",
       "    <tr>\n",
       "      <th>3</th>\n",
       "      <td>1604</td>\n",
       "      <td>treatment</td>\n",
       "      <td>15.937053</td>\n",
       "      <td>False</td>\n",
       "      <td>False</td>\n",
       "    </tr>\n",
       "    <tr>\n",
       "      <th>4</th>\n",
       "      <td>1605</td>\n",
       "      <td>treatment</td>\n",
       "      <td>25.213997</td>\n",
       "      <td>False</td>\n",
       "      <td>True</td>\n",
       "    </tr>\n",
       "    <tr>\n",
       "      <th>...</th>\n",
       "      <td>...</td>\n",
       "      <td>...</td>\n",
       "      <td>...</td>\n",
       "      <td>...</td>\n",
       "      <td>...</td>\n",
       "    </tr>\n",
       "    <tr>\n",
       "      <th>1744</th>\n",
       "      <td>3345</td>\n",
       "      <td>treatment</td>\n",
       "      <td>23.053563</td>\n",
       "      <td>False</td>\n",
       "      <td>False</td>\n",
       "    </tr>\n",
       "    <tr>\n",
       "      <th>1745</th>\n",
       "      <td>3346</td>\n",
       "      <td>treatment</td>\n",
       "      <td>21.755798</td>\n",
       "      <td>False</td>\n",
       "      <td>True</td>\n",
       "    </tr>\n",
       "    <tr>\n",
       "      <th>1746</th>\n",
       "      <td>3347</td>\n",
       "      <td>treatment</td>\n",
       "      <td>45.081771</td>\n",
       "      <td>True</td>\n",
       "      <td>True</td>\n",
       "    </tr>\n",
       "    <tr>\n",
       "      <th>1747</th>\n",
       "      <td>3348</td>\n",
       "      <td>treatment</td>\n",
       "      <td>37.187168</td>\n",
       "      <td>True</td>\n",
       "      <td>True</td>\n",
       "    </tr>\n",
       "    <tr>\n",
       "      <th>1748</th>\n",
       "      <td>3349</td>\n",
       "      <td>treatment</td>\n",
       "      <td>23.719221</td>\n",
       "      <td>False</td>\n",
       "      <td>True</td>\n",
       "    </tr>\n",
       "  </tbody>\n",
       "</table>\n",
       "<p>1749 rows × 5 columns</p>\n",
       "</div>"
      ],
      "text/plain": [
       "      user_id    version  minutes_play  day_1_active  day_7_active\n",
       "0        1601  treatment     20.143694         False         False\n",
       "1        1602  treatment     40.973454          True         False\n",
       "2        1603  treatment     33.829785          True          True\n",
       "3        1604  treatment     15.937053         False         False\n",
       "4        1605  treatment     25.213997         False          True\n",
       "...       ...        ...           ...           ...           ...\n",
       "1744     3345  treatment     23.053563         False         False\n",
       "1745     3346  treatment     21.755798         False          True\n",
       "1746     3347  treatment     45.081771          True          True\n",
       "1747     3348  treatment     37.187168          True          True\n",
       "1748     3349  treatment     23.719221         False          True\n",
       "\n",
       "[1749 rows x 5 columns]"
      ]
     },
     "execution_count": 25,
     "metadata": {},
     "output_type": "execute_result"
    }
   ],
   "source": [
    "raw_treatment = {'user_id':user_id_treatment,\n",
    "               'version':treatment_status,\n",
    "               'minutes_play':minutes_treat,\n",
    "               'day_1_active':day_1_treatment,\n",
    "               'day_7_active':day_7_treatment\n",
    "               }\n",
    "treatment_group = pd.DataFrame(data=raw_treatment)\n",
    "treatment_group"
   ]
  },
  {
   "cell_type": "code",
   "execution_count": 26,
   "metadata": {},
   "outputs": [
    {
     "name": "stderr",
     "output_type": "stream",
     "text": [
      "/var/folders/pr/9_2s18ld0_d38x14xrf468fh0000gn/T/ipykernel_71223/1717605067.py:1: FutureWarning: The frame.append method is deprecated and will be removed from pandas in a future version. Use pandas.concat instead.\n",
      "  two_datasets = control_group.append(treatment_group)\n"
     ]
    }
   ],
   "source": [
    "two_datasets = control_group.append(treatment_group)\n",
    "\n",
    "final_data = two_datasets.sample(frac=1)"
   ]
  },
  {
   "cell_type": "code",
   "execution_count": 27,
   "metadata": {},
   "outputs": [
    {
     "data": {
      "text/html": [
       "<div>\n",
       "<style scoped>\n",
       "    .dataframe tbody tr th:only-of-type {\n",
       "        vertical-align: middle;\n",
       "    }\n",
       "\n",
       "    .dataframe tbody tr th {\n",
       "        vertical-align: top;\n",
       "    }\n",
       "\n",
       "    .dataframe thead th {\n",
       "        text-align: right;\n",
       "    }\n",
       "</style>\n",
       "<table border=\"1\" class=\"dataframe\">\n",
       "  <thead>\n",
       "    <tr style=\"text-align: right;\">\n",
       "      <th></th>\n",
       "      <th>user_id</th>\n",
       "      <th>version</th>\n",
       "      <th>minutes_play</th>\n",
       "      <th>day_1_active</th>\n",
       "      <th>day_7_active</th>\n",
       "    </tr>\n",
       "  </thead>\n",
       "  <tbody>\n",
       "    <tr>\n",
       "      <th>1335</th>\n",
       "      <td>1336</td>\n",
       "      <td>control</td>\n",
       "      <td>35.746214</td>\n",
       "      <td>True</td>\n",
       "      <td>False</td>\n",
       "    </tr>\n",
       "    <tr>\n",
       "      <th>1031</th>\n",
       "      <td>1032</td>\n",
       "      <td>control</td>\n",
       "      <td>41.911893</td>\n",
       "      <td>True</td>\n",
       "      <td>False</td>\n",
       "    </tr>\n",
       "    <tr>\n",
       "      <th>953</th>\n",
       "      <td>954</td>\n",
       "      <td>control</td>\n",
       "      <td>36.501549</td>\n",
       "      <td>False</td>\n",
       "      <td>True</td>\n",
       "    </tr>\n",
       "    <tr>\n",
       "      <th>1549</th>\n",
       "      <td>3150</td>\n",
       "      <td>treatment</td>\n",
       "      <td>21.765848</td>\n",
       "      <td>False</td>\n",
       "      <td>False</td>\n",
       "    </tr>\n",
       "    <tr>\n",
       "      <th>671</th>\n",
       "      <td>672</td>\n",
       "      <td>control</td>\n",
       "      <td>15.180415</td>\n",
       "      <td>False</td>\n",
       "      <td>True</td>\n",
       "    </tr>\n",
       "    <tr>\n",
       "      <th>...</th>\n",
       "      <td>...</td>\n",
       "      <td>...</td>\n",
       "      <td>...</td>\n",
       "      <td>...</td>\n",
       "      <td>...</td>\n",
       "    </tr>\n",
       "    <tr>\n",
       "      <th>308</th>\n",
       "      <td>1909</td>\n",
       "      <td>treatment</td>\n",
       "      <td>34.426380</td>\n",
       "      <td>False</td>\n",
       "      <td>False</td>\n",
       "    </tr>\n",
       "    <tr>\n",
       "      <th>641</th>\n",
       "      <td>2242</td>\n",
       "      <td>treatment</td>\n",
       "      <td>21.799069</td>\n",
       "      <td>False</td>\n",
       "      <td>True</td>\n",
       "    </tr>\n",
       "    <tr>\n",
       "      <th>1109</th>\n",
       "      <td>1110</td>\n",
       "      <td>control</td>\n",
       "      <td>31.523398</td>\n",
       "      <td>False</td>\n",
       "      <td>False</td>\n",
       "    </tr>\n",
       "    <tr>\n",
       "      <th>409</th>\n",
       "      <td>2010</td>\n",
       "      <td>treatment</td>\n",
       "      <td>39.501029</td>\n",
       "      <td>False</td>\n",
       "      <td>True</td>\n",
       "    </tr>\n",
       "    <tr>\n",
       "      <th>505</th>\n",
       "      <td>506</td>\n",
       "      <td>control</td>\n",
       "      <td>43.374538</td>\n",
       "      <td>False</td>\n",
       "      <td>False</td>\n",
       "    </tr>\n",
       "  </tbody>\n",
       "</table>\n",
       "<p>3349 rows × 5 columns</p>\n",
       "</div>"
      ],
      "text/plain": [
       "      user_id    version  minutes_play  day_1_active  day_7_active\n",
       "1335     1336    control     35.746214          True         False\n",
       "1031     1032    control     41.911893          True         False\n",
       "953       954    control     36.501549         False          True\n",
       "1549     3150  treatment     21.765848         False         False\n",
       "671       672    control     15.180415         False          True\n",
       "...       ...        ...           ...           ...           ...\n",
       "308      1909  treatment     34.426380         False         False\n",
       "641      2242  treatment     21.799069         False          True\n",
       "1109     1110    control     31.523398         False         False\n",
       "409      2010  treatment     39.501029         False          True\n",
       "505       506    control     43.374538         False         False\n",
       "\n",
       "[3349 rows x 5 columns]"
      ]
     },
     "execution_count": 27,
     "metadata": {},
     "output_type": "execute_result"
    }
   ],
   "source": [
    "final_data"
   ]
  },
  {
   "attachments": {},
   "cell_type": "markdown",
   "metadata": {},
   "source": [
    "## After test data analysis"
   ]
  },
  {
   "cell_type": "code",
   "execution_count": 28,
   "metadata": {},
   "outputs": [
    {
     "data": {
      "text/plain": [
       "version\n",
       "control      1600\n",
       "treatment    1749\n",
       "Name: user_id, dtype: int64"
      ]
     },
     "execution_count": 28,
     "metadata": {},
     "output_type": "execute_result"
    }
   ],
   "source": [
    "# count number of users in each version\n",
    "final_data.groupby('version')['user_id'].count()"
   ]
  },
  {
   "cell_type": "markdown",
   "metadata": {},
   "source": []
  },
  {
   "attachments": {},
   "cell_type": "markdown",
   "metadata": {},
   "source": [
    "## Testing for Sample Ratio Mismatch"
   ]
  },
  {
   "cell_type": "code",
   "execution_count": 39,
   "metadata": {},
   "outputs": [
    {
     "name": "stdout",
     "output_type": "stream",
     "text": [
      "Power_divergenceResult(statistic=6.629143027769484, pvalue=0.01003235193083798)\n"
     ]
    }
   ],
   "source": [
    "# Chi-square test\n",
    "from scipy.stats import chisquare\n",
    "chi = chisquare([1600,1749],f_exp = [1674.5,1674.5])\n",
    "print(chi)\n"
   ]
  },
  {
   "cell_type": "code",
   "execution_count": 38,
   "metadata": {},
   "outputs": [
    {
     "name": "stdout",
     "output_type": "stream",
     "text": [
      "No SRM\n"
     ]
    }
   ],
   "source": [
    "# set alpha = 0.01 for SRM.\n",
    "if chi[1] < 0.01:\n",
    "    print('Reject the null, SRM is present')\n",
    "else:\n",
    "    print('Fail to reject the null, No SRM')"
   ]
  },
  {
   "cell_type": "code",
   "execution_count": 41,
   "metadata": {},
   "outputs": [
    {
     "data": {
      "text/plain": [
       "Text(0, 0.5, 'User Count')"
      ]
     },
     "execution_count": 41,
     "metadata": {},
     "output_type": "execute_result"
    },
    {
     "data": {
      "image/png": "[encoded data removed]",
      "text/plain": [
       "<Figure size 640x480 with 1 Axes>"
      ]
     },
     "metadata": {},
     "output_type": "display_data"
    }
   ],
   "source": [
    "%matplotlib inline\n",
    "\n",
    "final_data['minutes_play_integers'] = round(final_data['minutes_play'])\n",
    "plot_df = final_data.groupby('minutes_play_integers')['user_id'].count()\n",
    "ax = plot_df.head(n=50).plot(x=\"minutes_play_integers\", y=\"user_id\", kind=\"hist\")\n",
    "ax.set_xlabel(\"Duration of Video Played in Minutes\")\n",
    "ax.set_ylabel(\"User Count\")"
   ]
  },
  {
   "cell_type": "code",
   "execution_count": 42,
   "metadata": {},
   "outputs": [
    {
     "data": {
      "text/plain": [
       "0.32218572708271126"
      ]
     },
     "execution_count": 42,
     "metadata": {},
     "output_type": "execute_result"
    }
   ],
   "source": [
    "## Metric 1 - Day 1 retention\n",
    "final_data['day_1_active'].mean()"
   ]
  },
  {
   "cell_type": "code",
   "execution_count": 43,
   "metadata": {},
   "outputs": [
    {
     "data": {
      "text/plain": [
       "version\n",
       "control      0.293125\n",
       "treatment    0.348771\n",
       "Name: day_1_active, dtype: float64"
      ]
     },
     "execution_count": 43,
     "metadata": {},
     "output_type": "execute_result"
    }
   ],
   "source": [
    "final_data.groupby('version')['day_1_active'].mean()"
   ]
  },
  {
   "cell_type": "code",
   "execution_count": 44,
   "metadata": {},
   "outputs": [
    {
     "data": {
      "text/plain": [
       "<Axes: ylabel='Density'>"
      ]
     },
     "execution_count": 44,
     "metadata": {},
     "output_type": "execute_result"
    },
    {
     "data": {
      "image/png": "[encoded data removed]",
      "text/plain": [
       "<Figure size 640x480 with 1 Axes>"
      ]
     },
     "metadata": {},
     "output_type": "display_data"
    }
   ],
   "source": [
    "# Bootstrap\n",
    "boot_means = []\n",
    "\n",
    "for i in range(10000):\n",
    "    boot_sample = final_data.sample(frac=1, replace=True).groupby('version')['day_1_active'].mean()\n",
    "    boot_means.append(boot_sample)\n",
    "\n",
    "boot_means = pd.DataFrame(boot_means)\n",
    "\n",
    "boot_means.plot(kind='kde')"
   ]
  },
  {
   "cell_type": "code",
   "execution_count": 45,
   "metadata": {},
   "outputs": [
    {
     "data": {
      "text/plain": [
       "day_1_active    22.401355\n",
       "day_1_active    22.424503\n",
       "day_1_active    16.454318\n",
       "day_1_active    17.679082\n",
       "day_1_active    12.462930\n",
       "                  ...    \n",
       "day_1_active    26.086403\n",
       "day_1_active    16.431710\n",
       "day_1_active    13.877429\n",
       "day_1_active    17.249551\n",
       "day_1_active    26.790021\n",
       "Name: diff, Length: 10000, dtype: float64"
      ]
     },
     "execution_count": 45,
     "metadata": {},
     "output_type": "execute_result"
    }
   ],
   "source": [
    "boot_means['diff'] = (boot_means['treatment'] - boot_means['control'])/boot_means['control']*100\n",
    "boot_means['diff']\n"
   ]
  },
  {
   "cell_type": "code",
   "execution_count": 46,
   "metadata": {},
   "outputs": [
    {
     "data": {
      "text/plain": [
       "Text(0.5, 0, '% diff in means')"
      ]
     },
     "execution_count": 46,
     "metadata": {},
     "output_type": "execute_result"
    },
    {
     "data": {
      "image/png": "[encoded data removed]",
      "text/plain": [
       "<Figure size 640x480 with 1 Axes>"
      ]
     },
     "metadata": {},
     "output_type": "display_data"
    }
   ],
   "source": [
    "ax = boot_means['diff'].plot(kind = 'kde')\n",
    "ax.set_xlabel(\"% diff in means\")"
   ]
  },
  {
   "cell_type": "code",
   "execution_count": 47,
   "metadata": {},
   "outputs": [
    {
     "data": {
      "text/html": [
       "<div>\n",
       "<style scoped>\n",
       "    .dataframe tbody tr th:only-of-type {\n",
       "        vertical-align: middle;\n",
       "    }\n",
       "\n",
       "    .dataframe tbody tr th {\n",
       "        vertical-align: top;\n",
       "    }\n",
       "\n",
       "    .dataframe thead th {\n",
       "        text-align: right;\n",
       "    }\n",
       "</style>\n",
       "<table border=\"1\" class=\"dataframe\">\n",
       "  <thead>\n",
       "    <tr style=\"text-align: right;\">\n",
       "      <th>version</th>\n",
       "      <th>control</th>\n",
       "      <th>treatment</th>\n",
       "      <th>diff</th>\n",
       "    </tr>\n",
       "  </thead>\n",
       "  <tbody>\n",
       "    <tr>\n",
       "      <th>day_1_active</th>\n",
       "      <td>0.287492</td>\n",
       "      <td>0.351894</td>\n",
       "      <td>22.401355</td>\n",
       "    </tr>\n",
       "    <tr>\n",
       "      <th>day_1_active</th>\n",
       "      <td>0.299937</td>\n",
       "      <td>0.367196</td>\n",
       "      <td>22.424503</td>\n",
       "    </tr>\n",
       "    <tr>\n",
       "      <th>day_1_active</th>\n",
       "      <td>0.309335</td>\n",
       "      <td>0.360234</td>\n",
       "      <td>16.454318</td>\n",
       "    </tr>\n",
       "    <tr>\n",
       "      <th>day_1_active</th>\n",
       "      <td>0.285805</td>\n",
       "      <td>0.336333</td>\n",
       "      <td>17.679082</td>\n",
       "    </tr>\n",
       "    <tr>\n",
       "      <th>day_1_active</th>\n",
       "      <td>0.301768</td>\n",
       "      <td>0.339377</td>\n",
       "      <td>12.462930</td>\n",
       "    </tr>\n",
       "    <tr>\n",
       "      <th>...</th>\n",
       "      <td>...</td>\n",
       "      <td>...</td>\n",
       "      <td>...</td>\n",
       "    </tr>\n",
       "    <tr>\n",
       "      <th>day_1_active</th>\n",
       "      <td>0.292008</td>\n",
       "      <td>0.368182</td>\n",
       "      <td>26.086403</td>\n",
       "    </tr>\n",
       "    <tr>\n",
       "      <th>day_1_active</th>\n",
       "      <td>0.299252</td>\n",
       "      <td>0.348424</td>\n",
       "      <td>16.431710</td>\n",
       "    </tr>\n",
       "    <tr>\n",
       "      <th>day_1_active</th>\n",
       "      <td>0.299938</td>\n",
       "      <td>0.341561</td>\n",
       "      <td>13.877429</td>\n",
       "    </tr>\n",
       "    <tr>\n",
       "      <th>day_1_active</th>\n",
       "      <td>0.302915</td>\n",
       "      <td>0.355167</td>\n",
       "      <td>17.249551</td>\n",
       "    </tr>\n",
       "    <tr>\n",
       "      <th>day_1_active</th>\n",
       "      <td>0.288847</td>\n",
       "      <td>0.366229</td>\n",
       "      <td>26.790021</td>\n",
       "    </tr>\n",
       "  </tbody>\n",
       "</table>\n",
       "<p>9997 rows × 3 columns</p>\n",
       "</div>"
      ],
      "text/plain": [
       "version        control  treatment       diff\n",
       "day_1_active  0.287492   0.351894  22.401355\n",
       "day_1_active  0.299937   0.367196  22.424503\n",
       "day_1_active  0.309335   0.360234  16.454318\n",
       "day_1_active  0.285805   0.336333  17.679082\n",
       "day_1_active  0.301768   0.339377  12.462930\n",
       "...                ...        ...        ...\n",
       "day_1_active  0.292008   0.368182  26.086403\n",
       "day_1_active  0.299252   0.348424  16.431710\n",
       "day_1_active  0.299938   0.341561  13.877429\n",
       "day_1_active  0.302915   0.355167  17.249551\n",
       "day_1_active  0.288847   0.366229  26.790021\n",
       "\n",
       "[9997 rows x 3 columns]"
      ]
     },
     "execution_count": 47,
     "metadata": {},
     "output_type": "execute_result"
    }
   ],
   "source": [
    "boot_means[boot_means['diff'] > 0]\n"
   ]
  },
  {
   "cell_type": "code",
   "execution_count": 48,
   "metadata": {},
   "outputs": [
    {
     "data": {
      "text/plain": [
       "0.9997"
      ]
     },
     "execution_count": 48,
     "metadata": {},
     "output_type": "execute_result"
    }
   ],
   "source": [
    "# p value \n",
    "p = (boot_means['diff'] >0).sum()/len(boot_means)\n",
    "p"
   ]
  },
  {
   "cell_type": "code",
   "execution_count": null,
   "metadata": {},
   "outputs": [],
   "source": []
  }
 ],
 "metadata": {
  "kernelspec": {
   "display_name": "base",
   "language": "python",
   "name": "python3"
  },
  "language_info": {
   "codemirror_mode": {
    "name": "ipython",
    "version": 3
   },
   "file_extension": ".py",
   "mimetype": "text/x-python",
   "name": "python",
   "nbconvert_exporter": "python",
   "pygments_lexer": "ipython3",
   "version": "3.11.3"
  },
  "orig_nbformat": 4
 },
 "nbformat": 4,
 "nbformat_minor": 2
}
